{
 "cells": [
  {
   "cell_type": "markdown",
   "metadata": {},
   "source": [
    "$$\n",
    "H(s) = \\int_{-\\infty}^{\\infty} h(t) e^{-st} dt\n",
    "$$\n",
    "\n",
    "Série de Fourier exponencial\n",
    "\n",
    "$$\n",
    "x(t) = \\sum_{k=-\\infty}^{\\infty} a_k e^{jk\\omega_0 t}\n",
    "$$\n",
    "\n",
    "Série de Fourier trigonométrica\n",
    "\n",
    "$$\n",
    "x(t) = \\frac{a_0}{2} + \\sum_{k=1}^{\\infty} a_k \\cos(k\\omega_0 t) + b_k \\sin(k\\omega_0 t)\n",
    "$$\n"
   ]
  },
  {
   "cell_type": "markdown",
   "metadata": {},
   "source": [
    "### Vídeo do YouTube\n",
    "\n",
    "\\begin{align*}\n",
    "x(t) &= \\frac{a_0}{2} + \\sum_{k=1}^{\\infty} a_k \\cos(k\\omega_0 t) + b_k \\sin(k\\omega_0 t) \\\\\n",
    "\n",
    "a_0 &= \\frac{1}{T} \\int_{-T/2}^{T/2} x(t) dt \\\\\n",
    "\n",
    "\\omega_0 &= \\frac{2\\pi}{T} \\\\\n",
    "\n",
    "a_k &= \\frac{1}{T/2} \\int_{-T/2}^{T/2} x(t) \\cos(k\\omega_0 t) dt \\\\\n",
    "\n",
    "b_k &= \\frac{1}{T/2} \\int_{-T/2}^{T/2} x(t) \\sin(k\\omega_0 t) dt \\\\\n",
    "\\end{align*}\n",
    "\n",
    "###### https://www.youtube.com/watch?v=N2AHtGZdmkc&t=15s"
   ]
  },
  {
   "cell_type": "markdown",
   "metadata": {},
   "source": [
    "### Primeira questão\n",
    "\n",
    "$$\n",
    "x(t) = t; \\quad T = 2\n",
    "$$\n",
    "\n",
    "#### Calculando $a_0$\n",
    "\n",
    "\\begin{align*}\n",
    "a_0 &= \\frac{1}{T} \\int_{-T/2}^{T/2} x(t) dt \\\\\n",
    "\n",
    "&= \\frac{1}{2} \\int_{-1}^{1} t dt = 0 \\\\\n",
    "&= \\frac{1}{2} \\left[ \\frac{t^2}{2} \\right]_{-1}^{1} = 0 \\\\\n",
    "&= \\frac{1}{2} \\left[ \\frac{1}{2} - \\frac{1}{2} \\right] = 0 \\\\\n",
    "&= \\frac{1}{2} \\cdot 0 \\\\\n",
    "&= 0\n",
    "\\end{align*}\n",
    "\n",
    "#### Calculando $w_0$\n",
    "\n",
    "\\begin{align*}\n",
    "\\omega_0 &= \\frac{2\\pi}{T} \\\\\n",
    "&= \\frac{2\\pi}{2} \\\\\n",
    "&= \\pi\n",
    "\\end{align*}\n",
    "\n",
    "#### Calculando $a_k$\n",
    "\n",
    "\\begin{align*}\n",
    "a_k &= \\frac{1}{T/2} \\int_{-T/2}^{T/2} x(t) \\cos(k\\omega_0 t) dt \\\\\n",
    "\n",
    "&= \\frac{1}{2/2} \\int_{-2/2}^{2/2} t \\cos(k \\pi t) dt \\\\\n",
    "\n",
    "\\int f g' = f g - \\int f' g\n",
    "\n",
    "\\end{align*}"
   ]
  },
  {
   "cell_type": "code",
   "execution_count": null,
   "metadata": {},
   "outputs": [],
   "source": []
  }
 ],
 "metadata": {
  "language_info": {
   "name": "python"
  }
 },
 "nbformat": 4,
 "nbformat_minor": 2
}
